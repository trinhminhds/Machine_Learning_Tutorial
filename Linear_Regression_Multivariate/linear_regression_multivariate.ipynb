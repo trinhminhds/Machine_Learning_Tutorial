{
  "nbformat": 4,
  "nbformat_minor": 0,
  "metadata": {
    "colab": {
      "private_outputs": true,
      "provenance": []
    },
    "kernelspec": {
      "name": "python3",
      "display_name": "Python 3"
    },
    "language_info": {
      "name": "python"
    }
  },
  "cells": [
    {
      "cell_type": "markdown",
      "source": [
        "# Machine Learning With Python: Linear Regression Multuple Variables\n",
        "---\n",
        "\n",
        "\n",
        "\n"
      ],
      "metadata": {
        "id": "MlJ0FhbQ_BTz"
      }
    },
    {
      "cell_type": "markdown",
      "source": [
        "## Sample problem of predicting home in monroe, new jersey(USA)\n",
        "\n",
        "Below is the table containing home prices in monroe twp, NJ. Here price depends on `area (squre feet), bed rooms and age of the home (in year)`. Given thse prices we have to predict we have to predict of new home based on area, beb rooms and age.\n",
        "\n",
        "\n",
        "![](https://raw.githubusercontent.com/codebasics/py/801ee0ee4d342fd22b89915dc0c4864250a0ec10/ML/2_linear_reg_multivariate/homeprices.jpg)"
      ],
      "metadata": {
        "id": "PnOeSRZr_OcK"
      }
    },
    {
      "cell_type": "markdown",
      "source": [
        "Given these home prices find out price of a home that has\n",
        "\n",
        "**3000 sqr tf area, 3 bedrooms, 40 year old**\n",
        "\n",
        "**2500 sqr tf area, 4 bedrooms, 5 year old**\n",
        "\n",
        "We will use regression with multiple variables here. Price can be calculated using following equation\n",
        "\n",
        "![](https://raw.githubusercontent.com/codebasics/py/801ee0ee4d342fd22b89915dc0c4864250a0ec10/ML/2_linear_reg_multivariate/equation.jpg)\n",
        "\n",
        "Here area, bedrooms, age are called independant variables or features whereas price is a dependant variable\n",
        "\n",
        "\n"
      ],
      "metadata": {
        "id": "pQxEMzI3ABFS"
      }
    },
    {
      "cell_type": "code",
      "source": [
        "!pip -q install word2number"
      ],
      "metadata": {
        "id": "_JbYSY1FHIvj"
      },
      "execution_count": null,
      "outputs": []
    },
    {
      "cell_type": "code",
      "execution_count": null,
      "metadata": {
        "id": "Q_9Atiod-TDW"
      },
      "outputs": [],
      "source": [
        "import pandas as pd\n",
        "import numpy as np\n",
        "from sklearn import linear_model\n",
        "import matplotlib.pyplot as plt"
      ]
    },
    {
      "cell_type": "code",
      "source": [
        "df = pd.DataFrame({\n",
        "    'area': [2600, 3000, 3200, 3600, 4000, 4100],\n",
        "    'bedrooms': [3.0, 4.0, None , 3.0, 5.0, 6.0],\n",
        "    'age': [20, 15, 18, 30, 8, 8],\n",
        "    'price': [550000, 565000, 610000, 595000, 760000, 810000]\n",
        "})\n",
        "\n",
        "df"
      ],
      "metadata": {
        "id": "xUzpkvCoBNxa"
      },
      "execution_count": null,
      "outputs": []
    },
    {
      "cell_type": "markdown",
      "source": [
        "## Data Preprocessing: Fill NA values with median value of a column"
      ],
      "metadata": {
        "id": "FHBQ6VZ6B-rY"
      }
    },
    {
      "cell_type": "code",
      "source": [
        "df.bedrooms.median()"
      ],
      "metadata": {
        "id": "Gl2OyltUB0Ex"
      },
      "execution_count": null,
      "outputs": []
    },
    {
      "cell_type": "code",
      "source": [
        "df.bedrooms = df.bedrooms.fillna(df.bedrooms.median())\n",
        "df"
      ],
      "metadata": {
        "id": "gb1r1Q4vCM-G"
      },
      "execution_count": null,
      "outputs": []
    },
    {
      "cell_type": "code",
      "source": [
        "plt.xlabel('area')\n",
        "plt.ylabel('price')\n",
        "plt.scatter(df.area, df.price)\n",
        "plt.show()"
      ],
      "metadata": {
        "id": "A1RocKaeDkOm"
      },
      "execution_count": null,
      "outputs": []
    },
    {
      "cell_type": "code",
      "source": [
        "plt.xlabel('bedrooms')\n",
        "plt.ylabel('price')\n",
        "plt.scatter(df.bedrooms, df.price)\n",
        "plt.show()"
      ],
      "metadata": {
        "id": "RLsRTQmrDrpu"
      },
      "execution_count": null,
      "outputs": []
    },
    {
      "cell_type": "code",
      "source": [
        "plt.xlabel('age')\n",
        "plt.ylabel('price')\n",
        "plt.scatter(df.age, df.price)\n",
        "plt.show()"
      ],
      "metadata": {
        "id": "gA-GFbQlDxbm"
      },
      "execution_count": null,
      "outputs": []
    },
    {
      "cell_type": "code",
      "source": [
        "reg = linear_model.LinearRegression()\n",
        "reg.fit(df[['area', 'bedrooms', 'age']], df.price)"
      ],
      "metadata": {
        "id": "3yyShavtCO-z"
      },
      "execution_count": null,
      "outputs": []
    },
    {
      "cell_type": "code",
      "source": [
        "reg.coef_"
      ],
      "metadata": {
        "id": "hO85x2wJCcQK"
      },
      "execution_count": null,
      "outputs": []
    },
    {
      "cell_type": "code",
      "source": [
        "reg.intercept_"
      ],
      "metadata": {
        "id": "x6jC6BPzChD5"
      },
      "execution_count": null,
      "outputs": []
    },
    {
      "cell_type": "markdown",
      "source": [
        "**Find price of home with 3000 sqr tf area, 3 bedrooms, 40 year old**"
      ],
      "metadata": {
        "id": "iphyvKGNCoaX"
      }
    },
    {
      "cell_type": "code",
      "source": [
        "reg.predict([[3000, 3, 40]])"
      ],
      "metadata": {
        "id": "N-4HJM2zCjH8"
      },
      "execution_count": null,
      "outputs": []
    },
    {
      "cell_type": "code",
      "source": [
        "3000 *  112.06244194 + 3 * 23388.88007794  + 40 * -3231.71790863 + 221323.00186540396"
      ],
      "metadata": {
        "id": "E-2dEkybC143"
      },
      "execution_count": null,
      "outputs": []
    },
    {
      "cell_type": "markdown",
      "source": [
        "**Find price of home with 2500 sqr tf area, 4 bedrooms, 5 year old**"
      ],
      "metadata": {
        "id": "AC4c_zwlDUmP"
      }
    },
    {
      "cell_type": "code",
      "source": [
        "reg.predict([[2500, 4, 5]])"
      ],
      "metadata": {
        "id": "ge7WySvgDQCt"
      },
      "execution_count": null,
      "outputs": []
    },
    {
      "cell_type": "markdown",
      "source": [
        "# Exercise\n",
        "\n",
        "In exercire folder(same leverl as this notebook on github) there is `hiring.csv`. This file contains hiring statics for a firm such as experience of candidate, his writte test score and personal interview score. Based on there 3 factors, HR will decide the salary. Given this data, you need to build a machine learning model for HR department that can help them decide salaries for future candidates. Using this predict salaries for following candidates,\n",
        "\n",
        "**2 yr experience, 9 test score , 6 interview score**\n",
        "\n",
        "**12 yr experience, 10 test score, 10 interview score**\n",
        "\n"
      ],
      "metadata": {
        "id": "n9UTsRpLD_T1"
      }
    },
    {
      "cell_type": "code",
      "source": [
        "df_ex = pd.read_csv('/content/hiring.csv')\n",
        "df_ex"
      ],
      "metadata": {
        "id": "JFogradlDbEq"
      },
      "execution_count": null,
      "outputs": []
    },
    {
      "cell_type": "markdown",
      "source": [
        "## Data Preprocessing"
      ],
      "metadata": {
        "id": "f4EJe2saGcD0"
      }
    },
    {
      "cell_type": "code",
      "source": [
        "df_ex.experience = df_ex.experience.fillna('zero')\n",
        "df_ex"
      ],
      "metadata": {
        "id": "8gjYV01WGYiY"
      },
      "execution_count": null,
      "outputs": []
    },
    {
      "cell_type": "code",
      "source": [
        "from word2number import w2n\n",
        "\n",
        "df_ex.experience = df_ex.experience.apply(w2n.word_to_num)\n",
        "df_ex"
      ],
      "metadata": {
        "id": "pFGLEd2TGqv3"
      },
      "execution_count": null,
      "outputs": []
    },
    {
      "cell_type": "code",
      "source": [
        "median_test_score = df_ex['test_score(out of 10)'].median()\n",
        "median_test_score"
      ],
      "metadata": {
        "id": "82ABNpckHQIq"
      },
      "execution_count": null,
      "outputs": []
    },
    {
      "cell_type": "code",
      "source": [
        "df_ex['test_score(out of 10)'] = df_ex['test_score(out of 10)'].fillna(median_test_score)\n",
        "df_ex"
      ],
      "metadata": {
        "id": "0xXsSlvXHbNq"
      },
      "execution_count": null,
      "outputs": []
    },
    {
      "cell_type": "code",
      "source": [
        "plt.xlabel('experience')\n",
        "plt.ylabel('salary')\n",
        "plt.scatter(df_ex.experience, df_ex['salary($)'])\n",
        "plt.show()"
      ],
      "metadata": {
        "id": "iUsreulrISMB"
      },
      "execution_count": null,
      "outputs": []
    },
    {
      "cell_type": "code",
      "source": [
        "plt.xlabel('test_score(out of 10)')\n",
        "plt.ylabel('salary')\n",
        "plt.scatter(df_ex['test_score(out of 10)'], df_ex['salary($)'])\n",
        "plt.show()"
      ],
      "metadata": {
        "id": "mN1vg0xFIesJ"
      },
      "execution_count": null,
      "outputs": []
    },
    {
      "cell_type": "code",
      "source": [
        "plt.xlabel('interview_score(out of 10)')\n",
        "plt.ylabel('salary')\n",
        "plt.scatter(df_ex['interview_score(out of 10)'], df_ex['salary($)'])\n",
        "plt.show()"
      ],
      "metadata": {
        "id": "miw3tScdIiKJ"
      },
      "execution_count": null,
      "outputs": []
    },
    {
      "cell_type": "code",
      "source": [
        "reg = linear_model.LinearRegression()\n",
        "reg.fit(df_ex[['experience', 'test_score(out of 10)', 'interview_score(out of 10)']], df_ex['salary($)'])"
      ],
      "metadata": {
        "id": "tAcxSW6PHxtn"
      },
      "execution_count": null,
      "outputs": []
    },
    {
      "cell_type": "code",
      "source": [
        "# 2 yr experience, 9 test score , 6 interview score\n",
        "\n",
        "reg.predict([[2, 9, 6]])"
      ],
      "metadata": {
        "id": "fOGlYIkZH1_-"
      },
      "execution_count": null,
      "outputs": []
    },
    {
      "cell_type": "code",
      "source": [
        "# 12 yr experience, 10 test score, 10 interview score\n",
        "\n",
        "reg.predict([[12,10,10]])"
      ],
      "metadata": {
        "id": "qZcuW_DvIB3p"
      },
      "execution_count": null,
      "outputs": []
    }
  ]
}