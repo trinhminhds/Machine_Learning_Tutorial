{
  "nbformat": 4,
  "nbformat_minor": 0,
  "metadata": {
    "colab": {
      "private_outputs": true,
      "provenance": []
    },
    "kernelspec": {
      "name": "python3",
      "display_name": "Python 3"
    },
    "language_info": {
      "name": "python"
    }
  },
  "cells": [
    {
      "cell_type": "markdown",
      "source": [
        "# Gradient Descent\n",
        "---\n",
        "\n"
      ],
      "metadata": {
        "id": "zNOPGjXLKDFI"
      }
    },
    {
      "cell_type": "code",
      "execution_count": null,
      "metadata": {
        "id": "4Ykl0viGJkut"
      },
      "outputs": [],
      "source": [
        "import numpy as np\n",
        "import matplotlib.pyplot as plt\n",
        "import pandas as pd\n",
        "from sklearn import linear_model\n",
        "import math"
      ]
    },
    {
      "cell_type": "code",
      "source": [
        "%matplotlib inline\n",
        "\n",
        "def gradient_descent_plot(x,y):\n",
        "  m_curr = b_curr = 0\n",
        "  rate = 0.01\n",
        "  n = len(x)\n",
        "  plt.scatter(x, y, color='red', marker= 'o', linewidth=5)\n",
        "  for i in range(10000):\n",
        "    y_predicted = m_curr * x + b_curr\n",
        "    plt.plot(x, y_predicted, color='blue')\n",
        "    md = -(2/n)*sum(x*(y-y_predicted))\n",
        "    yd = -(2/n)*sum(y-y_predicted)\n",
        "    m_curr = m_curr - rate * md\n",
        "    b_curr = b_curr - rate * yd"
      ],
      "metadata": {
        "id": "IoRsJFd3KPd_"
      },
      "execution_count": null,
      "outputs": []
    },
    {
      "cell_type": "code",
      "source": [
        "x = np.array([1,2,3,4,5])\n",
        "y = np.array([5,7,9,11,13])"
      ],
      "metadata": {
        "id": "UZjeb_AjKPa-"
      },
      "execution_count": null,
      "outputs": []
    },
    {
      "cell_type": "code",
      "source": [
        "gradient_descent_plot(x,y)"
      ],
      "metadata": {
        "id": "izFvbTTILuT1"
      },
      "execution_count": null,
      "outputs": []
    },
    {
      "cell_type": "markdown",
      "source": [
        "# Exercise\n"
      ],
      "metadata": {
        "id": "BM-vhe1QN9cD"
      }
    },
    {
      "cell_type": "code",
      "source": [
        "df = pd.read_csv(\"/content/test_scores.csv\")\n",
        "df.head()"
      ],
      "metadata": {
        "id": "Y9p3d-yuMmA8"
      },
      "execution_count": null,
      "outputs": []
    },
    {
      "cell_type": "code",
      "source": [
        "x = np.array(df.math)\n",
        "y = np.array(df.cs)"
      ],
      "metadata": {
        "id": "eG2e2VynOPNN"
      },
      "execution_count": null,
      "outputs": []
    },
    {
      "cell_type": "code",
      "source": [
        "def predict_using_sklearn(x,y):\n",
        "  reg = linear_model.LinearRegression()\n",
        "  reg.fit(x.reshape(-1,1),y)\n",
        "  return reg.coef_, reg.intercept_\n",
        "\n",
        "\n",
        "predict_using_sklearn(x,y)"
      ],
      "metadata": {
        "id": "yH4Aq9fROoWq"
      },
      "execution_count": null,
      "outputs": []
    },
    {
      "cell_type": "code",
      "source": [
        "def gradient_descent(x, y):\n",
        "  m_curr = b_curr = 0\n",
        "  interations = 1000000\n",
        "  n = len(x)\n",
        "  learning_rate = 0.0002\n",
        "  cost_previous = 0\n",
        "\n",
        "  for i in range(interations):\n",
        "    y_predicted = m_curr * x + b_curr\n",
        "    cost = (1/n) * sum([val**2 for val in (y-y_predicted)])\n",
        "    md = -(2/n) * sum(x * (y - y_predicted))\n",
        "    yd = -(2/n) * sum(y - y_predicted)\n",
        "    m_curr = m_curr - learning_rate * md\n",
        "    b_curr = b_curr - learning_rate * yd\n",
        "    if math.isclose(cost, cost_previous, rel_tol=1e-20):\n",
        "      break\n",
        "    cost_previous = cost\n",
        "\n",
        "    print('m {}, b {}, cost {}, interation {}'.format(m_curr, b_curr, cost, i))\n",
        "\n",
        "  return m_curr, b_curr\n",
        "\n",
        "\n",
        "\n",
        "gradient_descent(x,y)"
      ],
      "metadata": {
        "id": "YAhRK8TNO_Yx"
      },
      "execution_count": null,
      "outputs": []
    },
    {
      "cell_type": "code",
      "source": [],
      "metadata": {
        "id": "eBHxlblyPbw2"
      },
      "execution_count": null,
      "outputs": []
    }
  ]
}