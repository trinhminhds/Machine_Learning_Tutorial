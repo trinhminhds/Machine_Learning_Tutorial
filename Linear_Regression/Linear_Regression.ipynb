{
  "nbformat": 4,
  "nbformat_minor": 0,
  "metadata": {
    "colab": {
      "private_outputs": true,
      "provenance": [],
      "gpuType": "T4"
    },
    "kernelspec": {
      "name": "python3",
      "display_name": "Python 3"
    },
    "language_info": {
      "name": "python"
    },
    "accelerator": "GPU"
  },
  "cells": [
    {
      "cell_type": "markdown",
      "source": [
        "# Machine Learning With Python: Linear Regression With One Variable\n",
        "\n",
        "---\n",
        "\n"
      ],
      "metadata": {
        "id": "v_5yUnUxzgMY"
      }
    },
    {
      "cell_type": "markdown",
      "source": [
        "## Sample problem of predicting home price in monroe, new jersey(USA)\n",
        "\n",
        "Below table represent current home prices in monroe township based on square feet are, new jersey\n",
        "\n",
        "![](https://raw.githubusercontent.com/codebasics/py/801ee0ee4d342fd22b89915dc0c4864250a0ec10/ML/1_linear_reg/homepricetable.JPG)\n",
        "\n",
        "\n"
      ],
      "metadata": {
        "id": "JqP6lNsWztmP"
      }
    },
    {
      "cell_type": "markdown",
      "source": [
        "`Problem Statement`: Given above data build a machine learning model that can predict home prices based on square feet area\n",
        "\n",
        "You can represent values in above table as a scatter plot (values are shown in red markers). After that one can draw a straight line that best fits values on chart\n",
        "\n",
        "![](https://raw.githubusercontent.com/codebasics/py/801ee0ee4d342fd22b89915dc0c4864250a0ec10/ML/1_linear_reg/scatterplot.JPG)\n",
        "\n",
        "\n"
      ],
      "metadata": {
        "id": "HFktAEvU1lPu"
      }
    },
    {
      "cell_type": "markdown",
      "source": [
        "You can draw multiple lines like this but we choose the one where total sum of error is minimum\n",
        "\n",
        "![](https://raw.githubusercontent.com/codebasics/py/801ee0ee4d342fd22b89915dc0c4864250a0ec10/ML/1_linear_reg/equation.PNG)\n",
        "\n"
      ],
      "metadata": {
        "id": "8f5v9spI2cA9"
      }
    },
    {
      "cell_type": "markdown",
      "source": [
        "You might remenber about linear equation from your hight shcool days math class. Home prices can be presented as following equation, `home price = m * (area) + b`\n",
        "\n",
        "Generic from of same equation is,\n",
        "\n",
        "\n",
        "![](https://raw.githubusercontent.com/codebasics/py/801ee0ee4d342fd22b89915dc0c4864250a0ec10/ML/1_linear_reg/linear_equation.png)"
      ],
      "metadata": {
        "id": "L9hsZ-IO2_jE"
      }
    },
    {
      "cell_type": "code",
      "execution_count": null,
      "metadata": {
        "id": "ZiVtMC-MzEvQ"
      },
      "outputs": [],
      "source": [
        "import pandas as pd\n",
        "import numpy as np\n",
        "import matplotlib.pyplot as plt\n",
        "from sklearn import linear_model"
      ]
    },
    {
      "cell_type": "code",
      "source": [
        "df = pd.DataFrame({\n",
        "    'area':[2600,3000,3200,3600,4000],\n",
        "    'price':[550000,565000,610000,680000,725000]\n",
        "})\n",
        "\n",
        "df"
      ],
      "metadata": {
        "id": "RIGmLxrAzfJf"
      },
      "execution_count": null,
      "outputs": []
    },
    {
      "cell_type": "code",
      "source": [
        "plt.xlabel('area')\n",
        "plt.ylabel('price')\n",
        "plt.scatter(df.area, df.price, color='blue', marker= '+')\n",
        "plt.show()"
      ],
      "metadata": {
        "id": "IPhTouqD33vW"
      },
      "execution_count": null,
      "outputs": []
    },
    {
      "cell_type": "code",
      "source": [
        "new_df = df.drop('price', axis='columns')\n",
        "new_df"
      ],
      "metadata": {
        "id": "jr94vury4Mfc"
      },
      "execution_count": null,
      "outputs": []
    },
    {
      "cell_type": "code",
      "source": [
        "price = df.price\n",
        "price"
      ],
      "metadata": {
        "id": "FH_UyOGa5DrL"
      },
      "execution_count": null,
      "outputs": []
    },
    {
      "cell_type": "code",
      "source": [
        "# Create Liearn regression object\n",
        "\n",
        "reg = linear_model.LinearRegression()\n",
        "reg.fit(new_df, price)"
      ],
      "metadata": {
        "id": "bzLZ_7JM5Pzv"
      },
      "execution_count": null,
      "outputs": []
    },
    {
      "cell_type": "markdown",
      "source": [
        "**Predict price of a home with area = 3300 sqr tf**"
      ],
      "metadata": {
        "id": "TVhvP_ye5i1R"
      }
    },
    {
      "cell_type": "code",
      "source": [
        "reg.predict([[3300]])"
      ],
      "metadata": {
        "id": "ckJJuV0d5ghQ"
      },
      "execution_count": null,
      "outputs": []
    },
    {
      "cell_type": "code",
      "source": [
        "reg.coef_"
      ],
      "metadata": {
        "id": "vrhAAua052Pe"
      },
      "execution_count": null,
      "outputs": []
    },
    {
      "cell_type": "code",
      "source": [
        "reg.intercept_"
      ],
      "metadata": {
        "id": "AfKhErfI6Ct4"
      },
      "execution_count": null,
      "outputs": []
    },
    {
      "cell_type": "markdown",
      "source": [
        "**Y = m * X * b (m is coefficient and b is intercept)**"
      ],
      "metadata": {
        "id": "5m7sfvF76HDq"
      }
    },
    {
      "cell_type": "code",
      "source": [
        "135.78767123 * 3300  + 180616.43835616432"
      ],
      "metadata": {
        "id": "p2x7K6E16E9C"
      },
      "execution_count": null,
      "outputs": []
    },
    {
      "cell_type": "markdown",
      "source": [
        "## Generate CSV file with list of home price predictions"
      ],
      "metadata": {
        "id": "KUCabOdA6zLQ"
      }
    },
    {
      "cell_type": "code",
      "source": [
        "df_ge = pd.DataFrame({\n",
        "    'area':[1000, 1500, 2000, 2500, 3000, 3500, 4000, 4500, 5000, 5500, 6000, 6500, 7000]\n",
        "})\n",
        "\n",
        "df_ge.head(5)"
      ],
      "metadata": {
        "id": "URqzcZUp6aPn"
      },
      "execution_count": null,
      "outputs": []
    },
    {
      "cell_type": "code",
      "source": [
        "pre = reg.predict(df_ge)\n",
        "pre"
      ],
      "metadata": {
        "id": "8EYmarIQ7fTM"
      },
      "execution_count": null,
      "outputs": []
    },
    {
      "cell_type": "code",
      "source": [
        "df_ge['price'] = pre.round(0)\n",
        "df_ge"
      ],
      "metadata": {
        "id": "tzvjXh3c7mDA"
      },
      "execution_count": null,
      "outputs": []
    },
    {
      "cell_type": "markdown",
      "source": [
        "# Exercise\n",
        "\n",
        "Predict canada's per capita income in year 2020. There is an exercise folder here on github at same level as this notebook, download that and you will find canada_per_capital_income.csv file. Using this build a regression model and predict the per capital income of canadian citizens in year 2020"
      ],
      "metadata": {
        "id": "beYDK8Nk8GtW"
      }
    },
    {
      "cell_type": "code",
      "source": [
        "df_ex = pd.read_csv('/content/canada_per_capita_income.csv')\n",
        "df_ex.head()"
      ],
      "metadata": {
        "id": "dFrSzouy7r6e"
      },
      "execution_count": null,
      "outputs": []
    },
    {
      "cell_type": "code",
      "source": [
        "plt.xlabel('year')\n",
        "plt.ylabel('per capita income (US$)')\n",
        "plt.scatter(df_ex['year'], df_ex['per capita income (US$)'], color='red', marker= '+')\n",
        "plt.show()"
      ],
      "metadata": {
        "id": "c-WVvTcU9A9U"
      },
      "execution_count": null,
      "outputs": []
    },
    {
      "cell_type": "code",
      "source": [
        "X = df_ex.drop(columns='per capita income (US$)', axis='columns')\n",
        "X.head()"
      ],
      "metadata": {
        "id": "R961qWw19TXU"
      },
      "execution_count": null,
      "outputs": []
    },
    {
      "cell_type": "code",
      "source": [
        "y = df_ex['per capita income (US$)']\n",
        "y.head()"
      ],
      "metadata": {
        "id": "Um4lNI1M9h5u"
      },
      "execution_count": null,
      "outputs": []
    },
    {
      "cell_type": "code",
      "source": [
        "model_reg = linear_model.LinearRegression()\n",
        "model_reg.fit(X, y)"
      ],
      "metadata": {
        "id": "36SCSzCh9tY1"
      },
      "execution_count": null,
      "outputs": []
    },
    {
      "cell_type": "code",
      "source": [
        "model_reg.predict([[2020]])"
      ],
      "metadata": {
        "id": "-YW2Vu5A9xc1"
      },
      "execution_count": null,
      "outputs": []
    }
  ]
}