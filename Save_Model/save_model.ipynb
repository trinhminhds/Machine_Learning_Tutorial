{
  "nbformat": 4,
  "nbformat_minor": 0,
  "metadata": {
    "colab": {
      "private_outputs": true,
      "provenance": [],
      "gpuType": "T4"
    },
    "kernelspec": {
      "name": "python3",
      "display_name": "Python 3"
    },
    "language_info": {
      "name": "python"
    },
    "accelerator": "GPU"
  },
  "cells": [
    {
      "cell_type": "markdown",
      "source": [
        "# Machine Learning With Python: Save And Load Trained Model\n",
        "---\n",
        "\n",
        "\n",
        "\n"
      ],
      "metadata": {
        "id": "MlJ0FhbQ_BTz"
      }
    },
    {
      "cell_type": "code",
      "source": [
        "!pip -q install word2number"
      ],
      "metadata": {
        "id": "_JbYSY1FHIvj"
      },
      "execution_count": null,
      "outputs": []
    },
    {
      "cell_type": "code",
      "execution_count": null,
      "metadata": {
        "id": "Q_9Atiod-TDW"
      },
      "outputs": [],
      "source": [
        "import pandas as pd\n",
        "import numpy as np\n",
        "from sklearn import linear_model\n",
        "import matplotlib.pyplot as plt"
      ]
    },
    {
      "cell_type": "code",
      "source": [
        "df = pd.DataFrame({\n",
        "    'area': [2600, 3000, 3200, 3600, 4000, 4100],\n",
        "    'bedrooms': [3.0, 4.0, None , 3.0, 5.0, 6.0],\n",
        "    'age': [20, 15, 18, 30, 8, 8],\n",
        "    'price': [550000, 565000, 610000, 595000, 760000, 810000]\n",
        "})\n",
        "\n",
        "df"
      ],
      "metadata": {
        "id": "xUzpkvCoBNxa"
      },
      "execution_count": null,
      "outputs": []
    },
    {
      "cell_type": "markdown",
      "source": [
        "## Data Preprocessing: Fill NA values with median value of a column"
      ],
      "metadata": {
        "id": "FHBQ6VZ6B-rY"
      }
    },
    {
      "cell_type": "code",
      "source": [
        "df.bedrooms.median()"
      ],
      "metadata": {
        "id": "Gl2OyltUB0Ex"
      },
      "execution_count": null,
      "outputs": []
    },
    {
      "cell_type": "code",
      "source": [
        "df.bedrooms = df.bedrooms.fillna(df.bedrooms.median())\n",
        "df"
      ],
      "metadata": {
        "id": "gb1r1Q4vCM-G"
      },
      "execution_count": null,
      "outputs": []
    },
    {
      "cell_type": "code",
      "source": [
        "plt.xlabel('area')\n",
        "plt.ylabel('price')\n",
        "plt.scatter(df.area, df.price)\n",
        "plt.show()"
      ],
      "metadata": {
        "id": "A1RocKaeDkOm"
      },
      "execution_count": null,
      "outputs": []
    },
    {
      "cell_type": "code",
      "source": [
        "plt.xlabel('bedrooms')\n",
        "plt.ylabel('price')\n",
        "plt.scatter(df.bedrooms, df.price)\n",
        "plt.show()"
      ],
      "metadata": {
        "id": "RLsRTQmrDrpu"
      },
      "execution_count": null,
      "outputs": []
    },
    {
      "cell_type": "code",
      "source": [
        "plt.xlabel('age')\n",
        "plt.ylabel('price')\n",
        "plt.scatter(df.age, df.price)\n",
        "plt.show()"
      ],
      "metadata": {
        "id": "gA-GFbQlDxbm"
      },
      "execution_count": null,
      "outputs": []
    },
    {
      "cell_type": "code",
      "source": [
        "reg = linear_model.LinearRegression()\n",
        "reg.fit(df[['area', 'bedrooms', 'age']], df.price)"
      ],
      "metadata": {
        "id": "3yyShavtCO-z"
      },
      "execution_count": null,
      "outputs": []
    },
    {
      "cell_type": "code",
      "source": [
        "reg.coef_"
      ],
      "metadata": {
        "id": "hO85x2wJCcQK"
      },
      "execution_count": null,
      "outputs": []
    },
    {
      "cell_type": "code",
      "source": [
        "reg.intercept_"
      ],
      "metadata": {
        "id": "x6jC6BPzChD5"
      },
      "execution_count": null,
      "outputs": []
    },
    {
      "cell_type": "markdown",
      "source": [
        "**Find price of home with 3000 sqr tf area, 3 bedrooms, 40 year old**"
      ],
      "metadata": {
        "id": "iphyvKGNCoaX"
      }
    },
    {
      "cell_type": "code",
      "source": [
        "reg.predict([[3000, 3, 40]])"
      ],
      "metadata": {
        "id": "N-4HJM2zCjH8"
      },
      "execution_count": null,
      "outputs": []
    },
    {
      "cell_type": "code",
      "source": [
        "3000 *  112.06244194 + 3 * 23388.88007794  + 40 * -3231.71790863 + 221323.00186540396"
      ],
      "metadata": {
        "id": "E-2dEkybC143"
      },
      "execution_count": null,
      "outputs": []
    },
    {
      "cell_type": "markdown",
      "source": [
        "**Find price of home with 2500 sqr tf area, 4 bedrooms, 5 year old**"
      ],
      "metadata": {
        "id": "AC4c_zwlDUmP"
      }
    },
    {
      "cell_type": "code",
      "source": [
        "reg.predict([[2500, 4, 5]])"
      ],
      "metadata": {
        "id": "ge7WySvgDQCt"
      },
      "execution_count": null,
      "outputs": []
    },
    {
      "cell_type": "markdown",
      "source": [
        "# Save Model To a File Using Python Pickle\n"
      ],
      "metadata": {
        "id": "LwhMDUkHSP63"
      }
    },
    {
      "cell_type": "code",
      "source": [
        "import pickle"
      ],
      "metadata": {
        "id": "P1jnSrInTMx9"
      },
      "execution_count": null,
      "outputs": []
    },
    {
      "cell_type": "code",
      "source": [
        "with open('model_pickle', 'wb') as f:\n",
        "  pickle.dump(reg, f)"
      ],
      "metadata": {
        "id": "bu7eVO7TTMvV"
      },
      "execution_count": null,
      "outputs": []
    },
    {
      "cell_type": "markdown",
      "source": [
        "## Load Saved Model"
      ],
      "metadata": {
        "id": "bBGkobFETmnk"
      }
    },
    {
      "cell_type": "code",
      "source": [
        "with open('model_pickle', 'rb') as f:\n",
        "  model = pickle.load(f)"
      ],
      "metadata": {
        "id": "5sItytPaTMs1"
      },
      "execution_count": null,
      "outputs": []
    },
    {
      "cell_type": "code",
      "source": [
        "model.coef_"
      ],
      "metadata": {
        "id": "Lm3Sp_VhTMPt"
      },
      "execution_count": null,
      "outputs": []
    },
    {
      "cell_type": "code",
      "source": [
        "model.intercept_"
      ],
      "metadata": {
        "id": "vsgkuhh7TMM-"
      },
      "execution_count": null,
      "outputs": []
    },
    {
      "cell_type": "code",
      "source": [
        "model.predict([[2500, 4, 5]])"
      ],
      "metadata": {
        "id": "pdFL3QZrTsyu"
      },
      "execution_count": null,
      "outputs": []
    },
    {
      "cell_type": "markdown",
      "source": [
        "## Save Trained Model Using joblib"
      ],
      "metadata": {
        "id": "E_0y11fyT6T8"
      }
    },
    {
      "cell_type": "code",
      "source": [
        "!pip -q install joblib"
      ],
      "metadata": {
        "id": "gbcjG6e3UKxE"
      },
      "execution_count": null,
      "outputs": []
    },
    {
      "cell_type": "code",
      "source": [
        "import joblib"
      ],
      "metadata": {
        "id": "PsKAm6giUCrL"
      },
      "execution_count": null,
      "outputs": []
    },
    {
      "cell_type": "code",
      "source": [
        "joblib.dump(reg, 'model_joblib')"
      ],
      "metadata": {
        "id": "C0dtNVZhUCoc"
      },
      "execution_count": null,
      "outputs": []
    },
    {
      "cell_type": "markdown",
      "source": [
        "## Load Saved Model"
      ],
      "metadata": {
        "id": "oiY5RNOtUnMF"
      }
    },
    {
      "cell_type": "code",
      "source": [
        "mj = joblib.load('model_joblib')"
      ],
      "metadata": {
        "id": "XgaB0NgKUCls"
      },
      "execution_count": null,
      "outputs": []
    },
    {
      "cell_type": "code",
      "source": [
        "mj.coef_"
      ],
      "metadata": {
        "id": "_d9DR0xaUCc7"
      },
      "execution_count": null,
      "outputs": []
    },
    {
      "cell_type": "code",
      "source": [
        "mj.intercept_"
      ],
      "metadata": {
        "id": "NOJJzOcPUyAU"
      },
      "execution_count": null,
      "outputs": []
    },
    {
      "cell_type": "code",
      "source": [
        "mj.predict([[2500, 4, 5]])"
      ],
      "metadata": {
        "id": "aapSwIYKUx57"
      },
      "execution_count": null,
      "outputs": []
    },
    {
      "cell_type": "markdown",
      "source": [
        "# Exercise\n",
        "\n",
        "In exercire folder(same leverl as this notebook on github) there is `hiring.csv`. This file contains hiring statics for a firm such as experience of candidate, his writte test score and personal interview score. Based on there 3 factors, HR will decide the salary. Given this data, you need to build a machine learning model for HR department that can help them decide salaries for future candidates. Using this predict salaries for following candidates,\n",
        "\n",
        "**2 yr experience, 9 test score , 6 interview score**\n",
        "\n",
        "**12 yr experience, 10 test score, 10 interview score**\n",
        "\n"
      ],
      "metadata": {
        "id": "n9UTsRpLD_T1"
      }
    },
    {
      "cell_type": "code",
      "source": [
        "df_ex = pd.read_csv('/content/hiring.csv')\n",
        "df_ex"
      ],
      "metadata": {
        "id": "JFogradlDbEq"
      },
      "execution_count": null,
      "outputs": []
    },
    {
      "cell_type": "markdown",
      "source": [
        "## Data Preprocessing"
      ],
      "metadata": {
        "id": "f4EJe2saGcD0"
      }
    },
    {
      "cell_type": "code",
      "source": [
        "df_ex.experience = df_ex.experience.fillna('zero')\n",
        "df_ex"
      ],
      "metadata": {
        "id": "8gjYV01WGYiY"
      },
      "execution_count": null,
      "outputs": []
    },
    {
      "cell_type": "code",
      "source": [
        "from word2number import w2n\n",
        "\n",
        "df_ex.experience = df_ex.experience.apply(w2n.word_to_num)\n",
        "df_ex"
      ],
      "metadata": {
        "id": "pFGLEd2TGqv3"
      },
      "execution_count": null,
      "outputs": []
    },
    {
      "cell_type": "code",
      "source": [
        "median_test_score = df_ex['test_score(out of 10)'].median()\n",
        "median_test_score"
      ],
      "metadata": {
        "id": "82ABNpckHQIq"
      },
      "execution_count": null,
      "outputs": []
    },
    {
      "cell_type": "code",
      "source": [
        "df_ex['test_score(out of 10)'] = df_ex['test_score(out of 10)'].fillna(median_test_score)\n",
        "df_ex"
      ],
      "metadata": {
        "id": "0xXsSlvXHbNq"
      },
      "execution_count": null,
      "outputs": []
    },
    {
      "cell_type": "code",
      "source": [
        "plt.xlabel('experience')\n",
        "plt.ylabel('salary')\n",
        "plt.scatter(df_ex.experience, df_ex['salary($)'])\n",
        "plt.show()"
      ],
      "metadata": {
        "id": "iUsreulrISMB"
      },
      "execution_count": null,
      "outputs": []
    },
    {
      "cell_type": "code",
      "source": [
        "plt.xlabel('test_score(out of 10)')\n",
        "plt.ylabel('salary')\n",
        "plt.scatter(df_ex['test_score(out of 10)'], df_ex['salary($)'])\n",
        "plt.show()"
      ],
      "metadata": {
        "id": "mN1vg0xFIesJ"
      },
      "execution_count": null,
      "outputs": []
    },
    {
      "cell_type": "code",
      "source": [
        "plt.xlabel('interview_score(out of 10)')\n",
        "plt.ylabel('salary')\n",
        "plt.scatter(df_ex['interview_score(out of 10)'], df_ex['salary($)'])\n",
        "plt.show()"
      ],
      "metadata": {
        "id": "miw3tScdIiKJ"
      },
      "execution_count": null,
      "outputs": []
    },
    {
      "cell_type": "code",
      "source": [
        "reg = linear_model.LinearRegression()\n",
        "reg.fit(df_ex[['experience', 'test_score(out of 10)', 'interview_score(out of 10)']], df_ex['salary($)'])"
      ],
      "metadata": {
        "id": "tAcxSW6PHxtn"
      },
      "execution_count": null,
      "outputs": []
    },
    {
      "cell_type": "code",
      "source": [
        "# 2 yr experience, 9 test score , 6 interview score\n",
        "\n",
        "reg.predict([[2, 9, 6]])"
      ],
      "metadata": {
        "id": "fOGlYIkZH1_-"
      },
      "execution_count": null,
      "outputs": []
    },
    {
      "cell_type": "code",
      "source": [
        "# 12 yr experience, 10 test score, 10 interview score\n",
        "\n",
        "reg.predict([[12,10,10]])"
      ],
      "metadata": {
        "id": "qZcuW_DvIB3p"
      },
      "execution_count": null,
      "outputs": []
    }
  ]
}